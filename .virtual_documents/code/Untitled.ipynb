import pandas as pd
import numpy as np
from plotnine import (ggplot, aes, geom_tile, scale_fill_gradientn, 
                      facet_wrap, labs, theme_void, theme,
                      element_blank, element_text, element_rect, guide_colorbar,
                      guides, scale_x_continuous, scale_y_continuous)
import matplotlib.pyplot as plt
from datetime import datetime, timedelta
import warnings
warnings.filterwarnings('ignore')
plt.rcParams['figure.figsize'] = (22, 28) # 12 inches wide, 8 inches high

data
# Calculate angles (simplified version)
n_rows = len(data_eu)
data_eu['angle'] = data_eu['row_number'].apply(lambda x: 
    90 - x * (360 / n_rows) if x < n_rows/4 else
    360 - (x - n_rows/4) * (360 / n_rows) if x < n_rows/2 else
    270 - (x - n_rows/2) * (360 / n_rows) if x < 3*n_rows/4 else
    180 - (x - 3*n_rows/4) * (360 / n_rows)
)
data
# Define colors and theme
text_color = '#FFFFFF'
bg_color = '#44709F'
tile_color = '#44709F'

# Create the plot
plot = (ggplot(data_eu, aes(x='date_column', y=20, fill='percentage')) +
        geom_tile(color=tile_color, size=0.2) +
        scale_fill_gradientn(
            name="Percentage",
            colors=['#FCD437', '#F29A44', '#EF903C', '#CA4733', '#A42E2F', '#424231'],
            breaks=[0, 3, 6, 9, 12, 15],
            labels=['0%', '3%', '6%', '9%', '12%', '15%'],

        ) +
        facet_wrap('~country_english', scales="free_x") +
        #coord_polar(clip='off') +
        labs(
            title="",
            subtitle="",
            x="",
            y="",
            caption=""
        ) +
        theme_void() +
        theme(
            panel_grid=element_blank(),
            axis_ticks=element_blank(),
            axis_text_x=element_blank(),
            axis_text_y=element_blank(),
            strip_text_x=element_text(size=16, color=text_color, weight='bold'),
            plot_title=element_text(size=20, ha='center', color=text_color, weight='bold'),
            plot_subtitle=element_text(size=12, color=text_color),
            plot_caption=element_text(size=8, color=text_color, ha='left'),
            legend_text=element_text(size=10, color=text_color, weight='bold'),
            legend_title=element_text(size=12, va='center', color=text_color, weight='bold'),
            plot_background=element_rect(fill=bg_color, color=bg_color),
            panel_background=element_rect(fill=bg_color, color=bg_color),
            legend_position=(0.5, 0.02),
            legend_direction="horizontal"
        )
)

# Display the plot
print(plot)

# For multiple countries, create a version with all countries
data_all = data.copy()

plot_all = (ggplot(data, aes(x='date_column', y=2, fill='percentage')) +
            geom_tile(color=tile_color, size=0.01) +
            scale_fill_gradientn(
                name="Percentage",
                colors=['#FCD437', '#F29A44', '#EF903C', '#CA4733', '#A42E2F', '#424231'],
                breaks=[0, 3, 6, 9, 12, 15],
                labels=['0%', '3%', '6%', '9%', '12%', '15%'],

            ) +
                        # --- Add monthly breaks to the x-axis ---
            scale_x_datetime(
                breaks=monthly_breaks,
                labels=monthly_labels,
                expand=(0.01, 0.01)
            ) +
            facet_wrap('~country_english', ncol=2, scales="free") +
            #coord_polar(clip='off') +
            labs(
                title="European Weekly Data Visualization",
                subtitle="Circular heatmap showing percentage values across countries",
                x="",
                y="",
                caption="Data visualization using plotnine"
            ) +
            theme_void() +
            theme(
                # Add the figure_size here
                figure_size=(10, 10), 
                
                panel_grid=element_blank(),
                axis_ticks=element_blank(),
                axis_text_x=element_blank(),
                axis_text_y=element_blank(),
                strip_text_x=element_text(size=8, color=text_color, weight='bold'),
                plot_title=element_text(size=66, ha='center', color=text_color, weight='bold'),
                plot_subtitle=element_text(size=10, ha='center', color=text_color),
                plot_caption=element_text(size=8, color=text_color, ha='left'),
                legend_text=element_text(size=8, color=text_color, weight='bold'),
                legend_title=element_text(size=10, va='center', color=text_color, weight='bold'),
                plot_background=element_rect(fill=bg_color, color=bg_color),
                panel_background=element_rect(fill=bg_color, color=bg_color),
                legend_position= 'top',
                legend_direction="horizontal",
                subplots_adjust={'top': 0.9, 'bottom': 0.1}
            )
)

print("Multi-country plot:")
print(plot_all)

# If you have the actual CSV file, replace the sample data creation with:
# data = pd.read_csv('data-xzChE.csv')
# Then add the data processing steps to match your R code structure
plot_all


import pandas as pd
data = pd.read_csv('../data/data-xzChE.csv')
# Assuming 'df' is your initial pandas DataFrame
# If you are reading from a file, it would be something like:
# import pandas as pd
# df = pd.read_csv('your_data.csv')

# 1. pivot_longer -> pd.melt
# We assume 'Fecha' is the column to keep fixed.
df_long = data.melt(
    id_vars=['Fecha'], 
    var_name='country', 
    value_name='percentage'
)

# 2. mutate -> assign with various transformations
# Create the translation dictionary for country names
country_translation = {
    "UE27": "EU27",
    "España": "Spain",
    "Austria": "Austria",
    "Bélgica": "Belgium",
    "Croacia": "Croatia",
    "Chipre": "Cyprus",
    "Rep. Checa": "Czech Republic",
    "Dinamarca": "Denmark",
    "Finlandia": "Finland",
    "Francia": "France",
    "Alemania": "Germany",
    "Grecia": "Greece",
    "Hungría": "Hungary",
    "Irlanda": "Ireland",
    "Italia": "Italy",
    "Países Bajos": "Netherlands",
    "Noruega": "Norway",
    "Polonia": "Poland",
    "Portugal": "Portugal",
    "Serbia": "Serbia",
    "Eslovaquia": "Slovakia",
    "Eslovenia": "Slovenia",
    "Reino Unido": "United Kingdom"
}

# Chain the operations similar to R's pipe
data = (
    df_long.assign(
        # Convert 'Fecha' to datetime
        date_column=pd.to_datetime(df_long['Fecha'], format="%d/%m/%Y"),
        
        # Clean and convert 'percentage' column
        percentage=(
            df_long['percentage']
            .str.replace('%', '', regex=False)
            .str.replace(',', '.', regex=False)
            .pipe(pd.to_numeric)
        ),
        
        # Translate country names
        country_english=df_long['country'].replace(country_translation)
    )
)

# Get unique country names as a list
# This is equivalent to:
# data %>% select(country) %>% distinct(country) %>% pull() %>% as_vector()
unique_countries = data['country'].unique().tolist()
print(unique_countries)


# Prepare data: Add week and day columns
# This is equivalent to:
# data <- data %>% mutate(week = isoweek(date_column), day = wday(date_column, ...))
data = data.assign(
    # Extract ISO week number
    week=data['date_column'].dt.isocalendar().week,
    
    # Extract day of the week (Monday=0, Sunday=6)
    # .dt.day_name() gives the name like "Monday"
    day=data['date_column'].dt.day_name() 
)

# Display the first few rows of the transformed DataFrame
print(data.head())


font_path = "/Users/mcnakhaee/Library/Fonts/Merriweather-VariableFont_opsz,wdth,wght.ttf"#"/path/to/Roboto-Regular.ttf"
roboto = font_manager.FontProperties(fname=font_path)
font_name = roboto.get_name()
font_name


import pandas as pd
import numpy as np
from plotnine import (ggplot, aes, geom_tile, scale_fill_gradientn, 
                      facet_wrap, labs, theme_void, theme,
                      element_blank, element_text, element_rect, guide_colorbar,
                      guides, scale_x_datetime) # Changed from scale_x_continuous
#from plotnine.themes.elements import margins
import matplotlib.pyplot as plt
from matplotlib import rcParams, font_manager

font_path = r"C:\Users\Admin\AppData\Local\Microsoft\Windows\Fonts\Roboto-Regular.ttf"#/path/to/Roboto-Regular.ttf"

#font_path = "/Users/mcnakhaee/Library/Fonts/PoiretOne-Regular.ttf"
#font_path = "/Users/mcnakhaee/Library/Fonts/OpenSans-VariableFont_wdth,wght.ttf"

#font_path = "/Users/mcnakhaee/Library/Fonts/SUSEMono-VariableFont_wght.ttf"
roboto = font_manager.FontProperties(fname=font_path)
font_name = roboto.get_name()
plt.rcParams['font.family'] = roboto.get_name()
import matplotlib.pyplot as plt
from datetime import datetime, timedelta
import warnings
warnings.filterwarnings('ignore')

# ... (your existing data creation code) ...
# Sample data creation (since we don't have the CSV file)
# Creating sample data that mimics the structure of your original data

# ...

# Filter out 'EU27' for this plot
data_all = data[data['country_english'] != 'EU27'].copy()

# --- New code to create monthly breaks and labels ---
monthly_breaks = pd.date_range(start='2024-01-01', end='2024-12-01', freq='MS')
monthly_labels = [d.strftime('%b') for d in monthly_breaks]
monthly_breaks_centered = [
    d + pd.offsets.Day(15) for d in monthly_breaks
]  # roughly middle of month

monthly_labels = [d.strftime('%b') for d in monthly_breaks]


bg_color = '#44709F'
tile_color = '#44709F'
text_color = '#F9F4EC'

plot_all = (ggplot(data_all, aes(x='date_column', y=1, fill='percentage')) +
            geom_tile(color=tile_color, size=0.008) +
            
            # --- Add monthly breaks to the x-axis ---
            scale_x_datetime(
                breaks=monthly_breaks,
                labels=monthly_labels,
                expand=(0.01, 0.01)
            ) +
            
            scale_fill_gradientn(
                name="Percentage",
                colors=['#FCD437', '#F29A44', '#EF903C', '#CA4733', '#A42E2F', '#424231'],
                breaks=[0, 3, 6, 9, 12, 15],
                labels=[f'{i}%' for i in [0, 3, 6, 9, 12, 15]],
            ) +
            


            facet_wrap('~country_english', ncol=2, scales="free") +
            labs(
                title="When Does Europe Go on Holiday?",
                subtitle="The weekly percentage of labor absences as part of the annual total across European countries \n\n               from 2015 to 2022, excluding the pandemic years 2020 and 2021.",
                x="",
                y="",
                caption="Data: Based on Eurostat data, processed and curated by El Confidencial. Data for certain countries was not available"
            ) +
            theme_void(base_family = font_name) +
            theme(
                figure_size=(15, 20),
                panel_grid=element_blank(),
                axis_ticks_y=element_blank(),
                axis_text_y=element_blank(),
                # Keep x-axis ticks and text for the monthly labels
                axis_ticks_x=element_blank(),
                axis_text_x=element_text(color=text_color, size=12,ha='center'),

                #figure_size=(10, 10), 
                legend_key_width=350,   # makes legend bar longer
                legend_key_height=15.5, # makes it thinner
                legend_box_spacing=0.05, # spacing around legend
                legend_box_margin=0.05,  
                legend_justification='center',
                legend_direction='horizontal',
                legend_box='horizontal',
                #legend_title_position='none',
                strip_text_x=element_text(size=23, color=text_color,margin={'b' : 5.1,'t':5}, weight='bold'),
                plot_title=element_text(size=60, ha='center', color=text_color, weight='bold'),
                plot_subtitle=element_text(size=20, ha='center', color=text_color),
                plot_caption=element_text(size=15, color=text_color, ha='left',margin={'b' : 15.1,'t':55}),
                legend_text=element_text(size=18, color=text_color, weight='bold'),
                legend_title=element_blank(),#element_text(size=20, va='center', color=text_color, weight='bold'),
                plot_background=element_rect(fill=bg_color, color=bg_color),
                panel_background=element_rect(fill=bg_color, color=bg_color),
                #plot_margin=(30, 30, 30, 30) 
                plot_margin_bottom = .02,
                plot_margin_left= 0.02,
                plot_margin_right= 0.02,
                plot_margin_top= 0.03,
                legend_position= 'top',
                subplots_adjust={'top': 10.1, 'bottom': 10.1}
                
            )
)
#plot_all += theme(plot_margin=1) 
# In a Jupyter Notebook, just have the plot object as the last line in the cell
plot_all = plot_all + scale_x_datetime(
    breaks=monthly_breaks_centered,
    labels=monthly_labels,
    expand=(0.01, 0.01)
)
plot_all


?element_text


#!pip3 install plotnine


data









